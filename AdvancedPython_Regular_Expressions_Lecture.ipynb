{
 "cells": [
  {
   "cell_type": "markdown",
   "metadata": {},
   "source": [
    "# Regular Expressions"
   ]
  },
  {
   "cell_type": "markdown",
   "metadata": {},
   "source": [
    "# Tasks today:\n",
    "1) <b>Importing</b> <br>\n",
    "2) <b>Using Regular Expressions</b> <br>\n",
    " &nbsp;&nbsp;&nbsp;&nbsp; a) re.compile() <br>\n",
    " &nbsp;&nbsp;&nbsp;&nbsp; b) re.match() <br>\n",
    " &nbsp;&nbsp;&nbsp;&nbsp; c) re.findall() <br>\n",
    " &nbsp;&nbsp;&nbsp;&nbsp; d) re.search() <br>\n",
    "3) <b>Sets</b> <br>\n",
    " &nbsp;&nbsp;&nbsp;&nbsp; a) Integer Ranges <br>\n",
    " &nbsp;&nbsp;&nbsp;&nbsp; b) Character Ranges <br>\n",
    "4) <b>Counting Occurences</b> <br>\n",
    " &nbsp;&nbsp;&nbsp;&nbsp; a) {x} <br>\n",
    " &nbsp;&nbsp;&nbsp;&nbsp; b) {, x} <br>\n",
    " &nbsp;&nbsp;&nbsp;&nbsp; c) {?} <br>\n",
    " &nbsp;&nbsp;&nbsp;&nbsp; d) {*} <br>\n",
    " &nbsp;&nbsp;&nbsp;&nbsp; e) {+} <br>\n",
    "5) <b>In-Class Exercise #1</b> <br>\n",
    "6) <b>Escaping Characters</b> <br>\n",
    "7) <b>Grouping</b> <br>\n",
    "8) <b>In-Class Exercise #2</b> <br>\n",
    "9) <b>Opening a File</b> <br>\n",
    " &nbsp;&nbsp;&nbsp;&nbsp; a) open() <br>\n",
    " &nbsp;&nbsp;&nbsp;&nbsp; b) with open() <br>\n",
    " &nbsp;&nbsp;&nbsp;&nbsp; c) re.match() <br>\n",
    " &nbsp;&nbsp;&nbsp;&nbsp; d) re.search() <br>\n",
    " &nbsp;&nbsp;&nbsp;&nbsp; e) Store the String in a Variable <br>\n",
    "10) <b>Regex Project</b> <br>"
   ]
  },
  {
   "cell_type": "markdown",
   "metadata": {},
   "source": [
    "### Importing <br>\n",
    "<p>Regular Expressions are universal throughout most programming languages... They are generally imported through the module 're'.</p>"
   ]
  },
  {
   "cell_type": "code",
   "execution_count": 1,
   "metadata": {},
   "outputs": [],
   "source": [
    "# import re\n",
    "import re"
   ]
  },
  {
   "cell_type": "code",
   "execution_count": 2,
   "metadata": {},
   "outputs": [
    {
     "data": {
      "text/plain": [
       "<module 're' from 'C:\\\\Users\\\\bstan\\\\anaconda3\\\\envs\\\\intro\\\\lib\\\\re.py'>"
      ]
     },
     "execution_count": 2,
     "metadata": {},
     "output_type": "execute_result"
    }
   ],
   "source": [
    "re"
   ]
  },
  {
   "cell_type": "markdown",
   "metadata": {},
   "source": [
    "### Using Regular Expressions <br>\n",
    "<p>Regular expressions give us the ability to search for patterns within text, strings, files, etc. They serve several uses, such as; security measures, searching, filtering, pattern recognition, and more...</p>"
   ]
  },
  {
   "cell_type": "markdown",
   "metadata": {},
   "source": [
    "##### re.compile()"
   ]
  },
  {
   "cell_type": "code",
   "execution_count": 15,
   "metadata": {},
   "outputs": [],
   "source": [
    "# using compile, predetermines the string to be used in regular expression methods\n",
    "pattern = re.compile('abcd')"
   ]
  },
  {
   "cell_type": "code",
   "execution_count": 16,
   "metadata": {},
   "outputs": [
    {
     "data": {
      "text/plain": [
       "re.compile(r'abcd', re.UNICODE)"
      ]
     },
     "execution_count": 16,
     "metadata": {},
     "output_type": "execute_result"
    }
   ],
   "source": [
    "pattern"
   ]
  },
  {
   "cell_type": "markdown",
   "metadata": {},
   "source": [
    "##### re.match()"
   ]
  },
  {
   "cell_type": "code",
   "execution_count": 17,
   "metadata": {},
   "outputs": [
    {
     "name": "stdout",
     "output_type": "stream",
     "text": [
      "<re.Match object; span=(0, 4), match='abcd'>\n",
      "(0, 4)\n",
      "abcd\n"
     ]
    }
   ],
   "source": [
    "my_string = 'abcd123'\n",
    "my_match = pattern.match(my_string)\n",
    "print(my_match)\n",
    "\n",
    "# Accessing the span of match\n",
    "print(my_match.span())\n",
    "print(my_string[my_match.span()[0]:my_match.span()[1]])"
   ]
  },
  {
   "cell_type": "code",
   "execution_count": 165,
   "metadata": {},
   "outputs": [
    {
     "data": {
      "text/plain": [
       "<re.Match object; span=(0, 4), match='abcd'>"
      ]
     },
     "execution_count": 165,
     "metadata": {},
     "output_type": "execute_result"
    }
   ],
   "source": [
    "re.match('abcd', 'abcd123')"
   ]
  },
  {
   "cell_type": "markdown",
   "metadata": {},
   "source": [
    "##### re.search()"
   ]
  },
  {
   "cell_type": "code",
   "execution_count": 24,
   "metadata": {},
   "outputs": [
    {
     "name": "stdout",
     "output_type": "stream",
     "text": [
      "<re.Match object; span=(11, 15), match='abcd'>\n",
      "abcd\n"
     ]
    }
   ],
   "source": [
    "my_new_string = '123 abc 12 abcd 123 abcd'\n",
    "my_search = pattern.search(my_new_string)\n",
    "print(my_search)\n",
    "\n",
    "span = my_search.span()\n",
    "\n",
    "print(my_new_string[span[0]:span[1]])"
   ]
  },
  {
   "cell_type": "markdown",
   "metadata": {},
   "source": [
    "##### re.findall()"
   ]
  },
  {
   "cell_type": "code",
   "execution_count": 25,
   "metadata": {},
   "outputs": [
    {
     "name": "stdout",
     "output_type": "stream",
     "text": [
      "['abcd', 'abcd', 'abcd', 'abcd']\n"
     ]
    }
   ],
   "source": [
    "another_string = '123abcd abcd12 acbd abcabc abcd 12abcd34 dcba'\n",
    "find = pattern.findall(another_string)\n",
    "print(find)"
   ]
  },
  {
   "cell_type": "markdown",
   "metadata": {},
   "source": [
    "### Sets <br>\n",
    "<p>The following cells will allow you to use regular expressions to search for certain values within a range such as numbers 1 through 4.</p>"
   ]
  },
  {
   "cell_type": "markdown",
   "metadata": {},
   "source": [
    "##### [a-z] or [A-Z] - any lowercase/uppercase letters from a to z<br/>[^2] - anything that's not 2"
   ]
  },
  {
   "cell_type": "markdown",
   "metadata": {},
   "source": [
    "##### Integer Ranges"
   ]
  },
  {
   "cell_type": "code",
   "execution_count": 36,
   "metadata": {},
   "outputs": [
    {
     "name": "stdout",
     "output_type": "stream",
     "text": [
      "['192', '483']\n",
      "<re.Match object; span=(1, 4), match='192'>\n",
      "192\n",
      "None\n"
     ]
    }
   ],
   "source": [
    "pattern_int = re.compile('[0-7][7-9][0-3]')\n",
    "\n",
    "# fin random numbers that meet the 0-7;7-9;0-3 pattern that are directly next to each other\n",
    "rand_ints = '8192378483'\n",
    "find_nums = pattern_int.findall(rand_ints)\n",
    "print(find_nums)\n",
    "\n",
    "int_search = pattern_int.search(rand_ints)\n",
    "print(int_search)\n",
    "span_int = int_search.span()\n",
    "print(rand_ints[span_int[0]:span_int[1]])\n",
    "\n",
    "print(pattern_int.match(rand_ints))"
   ]
  },
  {
   "cell_type": "code",
   "execution_count": 62,
   "metadata": {},
   "outputs": [
    {
     "data": {
      "text/plain": [
       "['9', '8', '7', '9', '7']"
      ]
     },
     "execution_count": 62,
     "metadata": {},
     "output_type": "execute_result"
    }
   ],
   "source": [
    "new_pat = re.compile('[^0-5]')\n",
    "new_pat.findall('19385731222222222222947')"
   ]
  },
  {
   "cell_type": "markdown",
   "metadata": {},
   "source": [
    "##### Character Ranges"
   ]
  },
  {
   "cell_type": "code",
   "execution_count": 64,
   "metadata": {},
   "outputs": [
    {
     "name": "stdout",
     "output_type": "stream",
     "text": [
      "['He', 'Th', 'Mr', 'An']\n"
     ]
    }
   ],
   "source": [
    "pattern_char = re.compile('[A-Z][a-z]')\n",
    "\n",
    "# Search through a string that has an uppercase letter and lowercase letter directly next to each other\n",
    "\n",
    "my_text = 'Hello There Mr.Anderson'\n",
    "found = pattern_char.findall(my_text)\n",
    "print(found)"
   ]
  },
  {
   "cell_type": "markdown",
   "metadata": {},
   "source": [
    "### Counting Occurences"
   ]
  },
  {
   "cell_type": "markdown",
   "metadata": {},
   "source": [
    "##### {x} - something that occurs {num_of_times}"
   ]
  },
  {
   "cell_type": "code",
   "execution_count": 97,
   "metadata": {},
   "outputs": [
    {
     "name": "stdout",
     "output_type": "stream",
     "text": [
      "['An12121']\n"
     ]
    }
   ],
   "source": [
    "char_pattern_count = re.compile('[A-Z][a-z][0-3]{5}') #[A-Z][a-z][0-3][0-3]\n",
    "\n",
    "found_count = char_pattern_count.findall('Hello Mr. An12121derson')\n",
    "\n",
    "print(found_count)"
   ]
  },
  {
   "cell_type": "markdown",
   "metadata": {},
   "source": [
    "##### {x, y} - something that occurs between x and y times"
   ]
  },
  {
   "cell_type": "code",
   "execution_count": 99,
   "metadata": {},
   "outputs": [
    {
     "name": "stdout",
     "output_type": "stream",
     "text": [
      "['m', 'm', 'm', 'mmm', 'mmmmm']\n"
     ]
    }
   ],
   "source": [
    "rand_pat = re.compile('m{1,5}')\n",
    "rand_statement = rand_pat.findall(\"This is an example of a regular expression trying to find one m, \\\n",
    "                                    more than one mmm or up to five mmmmm's\")\n",
    "print(rand_statement)"
   ]
  },
  {
   "cell_type": "markdown",
   "metadata": {},
   "source": [
    "##### ? - something that occurs 0 or 1 time"
   ]
  },
  {
   "cell_type": "code",
   "execution_count": 86,
   "metadata": {},
   "outputs": [
    {
     "name": "stdout",
     "output_type": "stream",
     "text": [
      "['Mr', 'Mrs', 'Ms', 'M']\n"
     ]
    }
   ],
   "source": [
    "pat = re.compile('Mr?s?')\n",
    "\n",
    "found_pat = pat.findall('Hello Mr. and Mrs. Anderson, do you know Mssssssss. Miller')\n",
    "print(found_pat)"
   ]
  },
  {
   "cell_type": "code",
   "execution_count": 76,
   "metadata": {},
   "outputs": [
    {
     "data": {
      "text/plain": [
       "['1', '2', '3', '1', '2a', '5', '3x', '2s', '3']"
      ]
     },
     "execution_count": 76,
     "metadata": {},
     "output_type": "execute_result"
    }
   ],
   "source": [
    "new_pat = re.compile('[0-9][a-z]?')\n",
    "\n",
    "new_pat.findall('123 12a 53x s2s3')"
   ]
  },
  {
   "cell_type": "markdown",
   "metadata": {},
   "source": [
    "##### * - something that occurs at least 0 times"
   ]
  },
  {
   "cell_type": "code",
   "execution_count": 94,
   "metadata": {},
   "outputs": [
    {
     "name": "stdout",
     "output_type": "stream",
     "text": [
      "['MMMs', 's', 'Ms', 's', 's', 'MMs', 's', 's', 's', 's']\n"
     ]
    }
   ],
   "source": [
    "pattern_m = re.compile('M*s')\n",
    "\n",
    "found_m = pattern_m.findall('MMMs name is Ms. Smith. This is MMsssss')\n",
    "\n",
    "print(found_m)"
   ]
  },
  {
   "cell_type": "markdown",
   "metadata": {},
   "source": [
    "##### + - something that occurs at least once"
   ]
  },
  {
   "cell_type": "code",
   "execution_count": 95,
   "metadata": {},
   "outputs": [
    {
     "name": "stdout",
     "output_type": "stream",
     "text": [
      "['MMMs', 'Ms', 'MMs']\n"
     ]
    }
   ],
   "source": [
    "pattern_m = re.compile('M+s')\n",
    "\n",
    "found_m = pattern_m.findall('MMMs name is Ms. Smith. This is MMsssss')\n",
    "\n",
    "print(found_m)"
   ]
  },
  {
   "cell_type": "markdown",
   "metadata": {},
   "source": [
    "##### In-class exercise 1: \n",
    "\n",
    "Use a regular expression to find every number in the given string"
   ]
  },
  {
   "cell_type": "code",
   "execution_count": 112,
   "metadata": {},
   "outputs": [
    {
     "data": {
      "text/plain": [
       "['10909090', '1', '2']"
      ]
     },
     "execution_count": 112,
     "metadata": {},
     "output_type": "execute_result"
    }
   ],
   "source": [
    "my_string = \"This string has 10909090 numbers, but it is only 1 string. I hope you solve this 2day.\"\n",
    "\n",
    "# Output: ['10909090','1',2]\n",
    "my_pat = re.compile('[0-9]+')\n",
    "my_pat.findall(my_string)"
   ]
  },
  {
   "cell_type": "markdown",
   "metadata": {},
   "source": [
    "### Escaping Characters"
   ]
  },
  {
   "cell_type": "markdown",
   "metadata": {},
   "source": [
    "##### \\w - look for any Unicode character<br/>\\W - look for anything that isnt a Unicode character\n",
    "\n",
    "[History on Unicode](http://unicode.org/standard/WhatIsUnicode.html)\n",
    "\n",
    "[More on Unicode Characters](https://en.wikipedia.org/wiki/List_of_Unicode_characters)"
   ]
  },
  {
   "cell_type": "code",
   "execution_count": 126,
   "metadata": {},
   "outputs": [
    {
     "name": "stdout",
     "output_type": "stream",
     "text": [
      "['This', 'is', 'a', 'sentence', 'and', 'it', 'has', 'an', 'exclamation_mark', 'at', 'the', 'end']\n",
      "[' ', ' ', ' ', ', ', '... ', ' ', ' ', ' ', ' ', ' ', '-', '!']\n"
     ]
    }
   ],
   "source": [
    "pattern_1 = re.compile('[\\w]+') # Find characters that add up to words\n",
    "pattern_2 = re.compile('[\\W]+') # Find all non-character sets\n",
    "found_1 = pattern_1.findall('This is a sentence, and it has an exclamation_mark at the end!')\n",
    "print(found_1)\n",
    "\n",
    "found_2 = pattern_2.findall('This is a sentence, and... it has an exclamation_mark at the-end!')\n",
    "print(found_2)"
   ]
  },
  {
   "cell_type": "markdown",
   "metadata": {},
   "source": [
    "##### \\d - look for any digit 0-9<br/>\\D - look for anything that isnt a digit"
   ]
  },
  {
   "cell_type": "code",
   "execution_count": 132,
   "metadata": {},
   "outputs": [
    {
     "name": "stdout",
     "output_type": "stream",
     "text": [
      "['29th', '1st', '3rd', '4th', '18th']\n",
      "['Today is the ', 'th, in ', ' days it will be the ', 'st. ', 'rd, ', 'th, ', 'th']\n"
     ]
    }
   ],
   "source": [
    "# \\d == [0-9]\n",
    "pattern_dates = re.compile('\\d{1,2}[\\w]{2}')\n",
    "\n",
    "date_string = 'Today is the 29th, in 2 days it will be the 1st. 3rd, 4th, 18th'\n",
    "\n",
    "found_date = pattern_dates.findall(date_string)\n",
    "print(found_date)\n",
    "\n",
    "oppo_pat = re.compile('\\D+')\n",
    "oppo = oppo_pat.findall(date_string)\n",
    "print(oppo)"
   ]
  },
  {
   "cell_type": "markdown",
   "metadata": {},
   "source": [
    "##### \\s - look for any white space<br/>\\S - look for anything that isnt whitespace"
   ]
  },
  {
   "cell_type": "code",
   "execution_count": 140,
   "metadata": {},
   "outputs": [
    {
     "name": "stdout",
     "output_type": "stream",
     "text": [
      "[' ', ' ', ' ', ' ', '   ']\n",
      "['Are', 'you', 'afraid', 'of', 'the', 'dark?']\n"
     ]
    }
   ],
   "source": [
    "pattern_space = re.compile('\\s+')\n",
    "\n",
    "found_space = pattern_space.findall('Are you afraid of the   dark?')\n",
    "print(found_space)\n",
    "\n",
    "pattern_non_space = re.compile('\\S+')\n",
    "found_non_space = pattern_non_space.findall('Are you afraid of the   dark?')\n",
    "print(found_non_space)"
   ]
  },
  {
   "cell_type": "markdown",
   "metadata": {},
   "source": [
    "##### \\b - look for boundaries or edges of a word<br/>\\B - look for anything that isnt a boundary"
   ]
  },
  {
   "cell_type": "code",
   "execution_count": 156,
   "metadata": {
    "scrolled": true
   },
   "outputs": [
    {
     "name": "stdout",
     "output_type": "stream",
     "text": [
      "['TheCodingTemple']\n",
      "['TheCodingTemple']\n"
     ]
    }
   ],
   "source": [
    "pattern_bound = re.compile(r'\\bTheCodingTemple\\b')\n",
    "\n",
    "found_bound = pattern_bound.findall('ThisIs!TheCodingTemple')\n",
    "print(found_bound)\n",
    "\n",
    "pattern_non_bound = re.compile('\\BTheCodingTemple\\B')\n",
    "found_non_bound = pattern_non_bound.findall('ThisIsTheCodingTempleasdfds')\n",
    "print(found_non_bound)"
   ]
  },
  {
   "cell_type": "markdown",
   "metadata": {},
   "source": [
    "##### \\A - Beginning of a string<br/>\\Z - End of a sting"
   ]
  },
  {
   "cell_type": "code",
   "execution_count": 164,
   "metadata": {},
   "outputs": [
    {
     "name": "stdout",
     "output_type": "stream",
     "text": [
      "['This']\n",
      "['123']\n"
     ]
    }
   ],
   "source": [
    "beginning_pattern = re.compile('\\AThis')\n",
    "begin = beginning_pattern.findall('This is my This string')\n",
    "print(begin)\n",
    "\n",
    "end_pattern = re.compile('123\\Z')\n",
    "end = end_pattern.findall('This string is the end of my string123')\n",
    "print(end)"
   ]
  },
  {
   "cell_type": "markdown",
   "metadata": {},
   "source": [
    "### Grouping"
   ]
  },
  {
   "cell_type": "code",
   "execution_count": 199,
   "metadata": {
    "scrolled": true
   },
   "outputs": [
    {
     "name": "stdout",
     "output_type": "stream",
     "text": [
      "[('Max', 'Smith'), ('Sam', 'Darnold'), ('LeBron', 'James'), ('Micheal', 'Jordan'), ('Kevin', 'Durant'), ('Patrick', 'McCormick'), ('Rosie', \"O'Donnell\")]\n",
      "Max\n",
      "Not a valid name\n",
      "Sam\n",
      "LeBron\n",
      "Micheal\n",
      "Kevin\n",
      "Patrick\n",
      "Rosie\n"
     ]
    }
   ],
   "source": [
    "my_string_again = \"Max Smith, aaron rodgers, Sam Darnold,LeBron James, Micheal Jordan, Kevin Durant, Patrick McCormick, Rosie O'Donnell\"\n",
    "\n",
    "# Group of names Regular Expression Compiler\n",
    "pattern_name = re.compile(\"(?P<first>[A-Z][A-Za-z]+) (?P<last>[A-Z][A-Z'a-z]+)\")\n",
    "\n",
    "found_names = pattern_name.findall(my_string_again)\n",
    "print(found_names)\n",
    "\n",
    "# looping over the entire list to get tuples by themselves\n",
    "for name in my_string_again.split(','):\n",
    "    match = pattern_name.search(name)\n",
    "    \n",
    "    if match:\n",
    "        print(match.group('first'))\n",
    "    else:\n",
    "        print(\"Not a valid name\")"
   ]
  },
  {
   "cell_type": "markdown",
   "metadata": {},
   "source": [
    "##### In-class Exercise 2:\n",
    "\n",
    "Write a function using regular expressions to find the domain name in the given email addresses (and return None for the invalid email addresses)<br><b>HINT: Use '|' for either or</b>"
   ]
  },
  {
   "cell_type": "code",
   "execution_count": 224,
   "metadata": {},
   "outputs": [
    {
     "name": "stdout",
     "output_type": "stream",
     "text": [
      "None\n",
      "gmail.com\n",
      "None\n",
      "g6.org\n",
      "None\n"
     ]
    }
   ],
   "source": [
    "my_emails = [\"jordanw@codingtemple.orgcom\", \"pocohontas1776@gmail.com\", \"helloworld@aol..com\",\n",
    "             \"yourfavoriteband@g6.org\", \"@codingtemple.com\"]\n",
    "\n",
    "# You can also use the $ at the end of your compile expression -- this stops the search\n",
    "\n",
    "#Expected output:\n",
    "#None\n",
    "#pocohontas1776@gmail.com\n",
    "#None\n",
    "#yourfavoriteband@g6.org\n",
    "#None\n",
    "last_name_pattern = re.compile('son|ton')\n",
    "\n",
    "# names = 'Stanton, Anderson, Robinson, Clinton, Bush'\n",
    "# for name in names.split(','):\n",
    "#     match = last_name_pattern.search(name)\n",
    "#     if match:\n",
    "#         print(match)\n",
    "#     else:\n",
    "#         print(\"Not end in son/ton\")\n",
    "\n",
    "pattern = re.compile(\"([A-Za-z0-9]+)@([A-Za-z0-9]+).(com|org)$\")\n",
    "for email in my_emails:\n",
    "    match = pattern.search(email)\n",
    "    if match:\n",
    "        print('.'.join(match.group(2,3)))\n",
    "    else:\n",
    "        print(match)"
   ]
  },
  {
   "cell_type": "markdown",
   "metadata": {},
   "source": [
    "### Opening a File <br>\n",
    "<p>Python gives us a couple ways to import files, below are the two used most often.</p>"
   ]
  },
  {
   "cell_type": "markdown",
   "metadata": {},
   "source": [
    "##### open()"
   ]
  },
  {
   "cell_type": "code",
   "execution_count": 226,
   "metadata": {},
   "outputs": [
    {
     "name": "stdout",
     "output_type": "stream",
     "text": [
      "Hawkins, Derek\tderek@codingtemple.com\t(555) 555-5555\tTeacher, Coding Temple\t@derekhawkins\n",
      "Stanton, Brian\tbrians@codingtemple.com\t(555) 555-5554\tTeacher, Coding Temple\n",
      "Johnson, Joe\tjoejohnson@codingtemple.com\t\tJohson, Joe\n",
      "Osterberg, Sven-Erik\tgovernor@norrbotten.co.se\t\tGovernor, Norrbotten\t@sverik\n",
      ", Tim\ttim@killerrabbit.com\t\tEnchanter, Killer Rabbit Cave\n",
      "Butz, Ryan\tryanb@codingtemple.com\t(555) 555-5543\tCEO, Coding Temple\t@ryanbutz\n",
      "Doctor, The\tdoctor+companion@tardis.co.uk\t\tTime Lord, Gallifrey\n",
      "Exampleson, Example\tme@example.com\t555-555-5552\tExample, Example Co.\t@example\n",
      "Pael, Ripal\tripalp@codingtemple.com\t(555) 555-5553\tTeacher, Coding Temple\t@ripalp\n",
      "Vader, Darth\tdarth-vader@empire.gov\t(555) 555-4444\tSith Lord, Galactic Empire\t@darthvader\n",
      "Fernandez de la Vega Sanz, Maria Teresa\tmtfvs@spain.gov\t\tFirst Deputy Prime Minister, Spanish Gov\n",
      "\n"
     ]
    }
   ],
   "source": [
    "file = open(\"names.txt\")\n",
    "\n",
    "data = file.read()\n",
    "\n",
    "print(data)\n",
    "\n",
    "file.close()"
   ]
  },
  {
   "cell_type": "code",
   "execution_count": 228,
   "metadata": {},
   "outputs": [],
   "source": [
    "# file.read()"
   ]
  },
  {
   "cell_type": "markdown",
   "metadata": {},
   "source": [
    "##### with open()"
   ]
  },
  {
   "cell_type": "code",
   "execution_count": 229,
   "metadata": {},
   "outputs": [
    {
     "name": "stdout",
     "output_type": "stream",
     "text": [
      "Hawkins, Derek\tderek@codingtemple.com\t(555) 555-5555\tTeacher, Coding Temple\t@derekhawkins\n",
      "Stanton, Brian\tbrians@codingtemple.com\t(555) 555-5554\tTeacher, Coding Temple\n",
      "Johnson, Joe\tjoejohnson@codingtemple.com\t\tJohson, Joe\n",
      "Osterberg, Sven-Erik\tgovernor@norrbotten.co.se\t\tGovernor, Norrbotten\t@sverik\n",
      ", Tim\ttim@killerrabbit.com\t\tEnchanter, Killer Rabbit Cave\n",
      "Butz, Ryan\tryanb@codingtemple.com\t(555) 555-5543\tCEO, Coding Temple\t@ryanbutz\n",
      "Doctor, The\tdoctor+companion@tardis.co.uk\t\tTime Lord, Gallifrey\n",
      "Exampleson, Example\tme@example.com\t555-555-5552\tExample, Example Co.\t@example\n",
      "Pael, Ripal\tripalp@codingtemple.com\t(555) 555-5553\tTeacher, Coding Temple\t@ripalp\n",
      "Vader, Darth\tdarth-vader@empire.gov\t(555) 555-4444\tSith Lord, Galactic Empire\t@darthvader\n",
      "Fernandez de la Vega Sanz, Maria Teresa\tmtfvs@spain.gov\t\tFirst Deputy Prime Minister, Spanish Gov\n",
      "\n"
     ]
    }
   ],
   "source": [
    "with open(\"names.txt\") as file:\n",
    "    data = file.read()\n",
    "    print(data)\n",
    "    "
   ]
  },
  {
   "cell_type": "code",
   "execution_count": 231,
   "metadata": {},
   "outputs": [],
   "source": [
    "# file.read()"
   ]
  },
  {
   "cell_type": "markdown",
   "metadata": {},
   "source": [
    "##### re.match()"
   ]
  },
  {
   "cell_type": "code",
   "execution_count": 242,
   "metadata": {},
   "outputs": [
    {
     "name": "stdout",
     "output_type": "stream",
     "text": [
      "<re.Match object; span=(0, 14), match='Hawkins, Derek'>\n",
      "Hawkins, Derek\n"
     ]
    }
   ],
   "source": [
    "print(re.match(r\"Hawkins, Derek\", data))\n",
    "print(data[0:14])"
   ]
  },
  {
   "cell_type": "markdown",
   "metadata": {},
   "source": [
    "##### re.search()"
   ]
  },
  {
   "cell_type": "code",
   "execution_count": 244,
   "metadata": {},
   "outputs": [
    {
     "name": "stdout",
     "output_type": "stream",
     "text": [
      "<re.Match object; span=(105, 128), match='brians@codingtemple.com'>\n",
      "brians@codingtemple.com\n"
     ]
    }
   ],
   "source": [
    "print(re.search('brians@codingtemple.com', data))\n",
    "print(data[105:128])"
   ]
  },
  {
   "cell_type": "markdown",
   "metadata": {},
   "source": [
    "##### Store the String to a Variable"
   ]
  },
  {
   "cell_type": "code",
   "execution_count": 247,
   "metadata": {},
   "outputs": [
    {
     "name": "stdout",
     "output_type": "stream",
     "text": [
      "What would you like to search for? codingtemple.com\n",
      "I found your data: ['codingtemple.com', 'codingtemple.com', 'codingtemple.com', 'codingtemple.com', 'codingtemple.com']\n"
     ]
    }
   ],
   "source": [
    "answer = input(\"What would you like to search for? \")\n",
    "\n",
    "found = re.findall(answer, data)\n",
    "\n",
    "if found:\n",
    "    print(f\"I found your data: {found}\")\n",
    "else:\n",
    "    print(\"That's a no from me\")"
   ]
  },
  {
   "cell_type": "markdown",
   "metadata": {},
   "source": [
    "### In-Class Exercise #3 <br>\n",
    "<p>Print each persons name and twitter handle, using groups, should look like:</p>\n",
    "<p>==============<br>\n",
    "   Full Name / Twitter<br>\n",
    "   ==============</p>\n",
    "Derek Hawkins / @derekhawkins\n",
    "\n",
    " Erik Sven-Osterberg / @sverik\n",
    "\n",
    " Ryan Butz / @ryanbutz\n",
    "\n",
    " Example Exampleson / @example\n",
    "\n",
    " Ripal Pael / @ripalp\n",
    "\n",
    " Darth Vader / @darthvader"
   ]
  },
  {
   "cell_type": "code",
   "execution_count": 248,
   "metadata": {
    "scrolled": true
   },
   "outputs": [
    {
     "data": {
      "text/plain": [
       "'Hawkins, Derek\\tderek@codingtemple.com\\t(555) 555-5555\\tTeacher, Coding Temple\\t@derekhawkins\\nStanton, Brian\\tbrians@codingtemple.com\\t(555) 555-5554\\tTeacher, Coding Temple\\nJohnson, Joe\\tjoejohnson@codingtemple.com\\t\\tJohson, Joe\\nOsterberg, Sven-Erik\\tgovernor@norrbotten.co.se\\t\\tGovernor, Norrbotten\\t@sverik\\n, Tim\\ttim@killerrabbit.com\\t\\tEnchanter, Killer Rabbit Cave\\nButz, Ryan\\tryanb@codingtemple.com\\t(555) 555-5543\\tCEO, Coding Temple\\t@ryanbutz\\nDoctor, The\\tdoctor+companion@tardis.co.uk\\t\\tTime Lord, Gallifrey\\nExampleson, Example\\tme@example.com\\t555-555-5552\\tExample, Example Co.\\t@example\\nPael, Ripal\\tripalp@codingtemple.com\\t(555) 555-5553\\tTeacher, Coding Temple\\t@ripalp\\nVader, Darth\\tdarth-vader@empire.gov\\t(555) 555-4444\\tSith Lord, Galactic Empire\\t@darthvader\\nFernandez de la Vega Sanz, Maria Teresa\\tmtfvs@spain.gov\\t\\tFirst Deputy Prime Minister, Spanish Gov\\n'"
      ]
     },
     "execution_count": 248,
     "metadata": {},
     "output_type": "execute_result"
    }
   ],
   "source": [
    "data"
   ]
  },
  {
   "cell_type": "code",
   "execution_count": 329,
   "metadata": {
    "scrolled": false
   },
   "outputs": [
    {
     "name": "stdout",
     "output_type": "stream",
     "text": [
      "=========================\n",
      "Derek Hawkins / @derekhawkins\n",
      "=========================\n",
      "\n",
      "=========================\n",
      "Sven-Erik Osterberg / @sverik\n",
      "=========================\n",
      "\n",
      "=========================\n",
      "Ryan Butz / @ryanbutz\n",
      "=========================\n",
      "\n",
      "=========================\n",
      "Ripal Pael / @ripalp\n",
      "=========================\n",
      "\n",
      "=========================\n",
      "Darth Vader / @darthvader\n",
      "=========================\n",
      "\n"
     ]
    }
   ],
   "source": [
    "pattern = re.compile(r'''\n",
    "    ^(?P<name>[a-zA-Z\\s]*,\\s\\w+[-\\w]*)\\t # The name as last, first\n",
    "    (?P<email>[-.+\\w\\d]+@[-.\\w\\d]+)\\t\n",
    "    (?P<phone>\\(?\\d{3}\\)?\\s?-?\\d{3}-\\d{4})?\\t?\n",
    "    (?P<title>[\\w\\d\\s]*,\\s[\\w\\s\\d]*)?\\t?\n",
    "    (?P<twitter>@[\\w\\d]+)?$\n",
    "''', re.X|re.M)\n",
    "# a = pattern.findall(data)\n",
    "# print(a)\n",
    "for found in pattern.finditer(data):\n",
    "    if found.group('twitter'):\n",
    "        print('=========================')\n",
    "        print(f\"{found.group('name').split(', ')[1]} {found.group('name').split(', ')[0]} / {found.group('twitter')}\")\n",
    "        print('=========================')\n",
    "        print()"
   ]
  },
  {
   "cell_type": "code",
   "execution_count": 311,
   "metadata": {},
   "outputs": [
    {
     "name": "stdout",
     "output_type": "stream",
     "text": [
      "Name: Hawkins, Derek\n",
      "Email: derek@codingtemple.com\n",
      "Phone: (555) 555-5555\n",
      "Occupation: Teacher, Coding Temple\t\n",
      "Twitter:@derekhawkins\n",
      "Name: Stanton, Brian\n",
      "Email: brians@codingtemple.com\n",
      "Phone: (555) 555-5554\n",
      "Occupation: Teacher, Coding Temple\n",
      "Twitter:None\n",
      "Name: Johnson, Joe\n",
      "Email: joejohnson@codingtemple.com\n",
      "Phone: None\n",
      "Occupation: Johson, Joe\n",
      "Twitter:None\n",
      "Name: Osterberg, Sven-Erik\n",
      "Email: governor@norrbotten.co.se\n",
      "Phone: None\n",
      "Occupation: Governor, Norrbotten\t\n",
      "Twitter:@sverik\n",
      "Name: , Tim\n",
      "Email: tim@killerrabbit.com\n",
      "Phone: None\n",
      "Occupation: Enchanter, Killer Rabbit Cave\n",
      "Twitter:None\n",
      "Name: Butz, Ryan\n",
      "Email: ryanb@codingtemple.com\n",
      "Phone: (555) 555-5543\n",
      "Occupation: CEO, Coding Temple\t\n",
      "Twitter:@ryanbutz\n",
      "Name: Doctor, The\n",
      "Email: doctor+companion@tardis.co.uk\n",
      "Phone: None\n",
      "Occupation: Time Lord, Gallifrey\n",
      "Twitter:None\n",
      "Name: Exampleson, Example\n",
      "Email: me@example.com\n",
      "Phone: 555-555-5552\n",
      "Occupation: Example, Example Co.\t\n",
      "Twitter:@example\n",
      "Name: Pael, Ripal\n",
      "Email: ripalp@codingtemple.com\n",
      "Phone: (555) 555-5553\n",
      "Occupation: Teacher, Coding Temple\t\n",
      "Twitter:@ripalp\n",
      "Name: Vader, Darth\n",
      "Email: darth-vader@empire.gov\n",
      "Phone: (555) 555-4444\n",
      "Occupation: Sith Lord, Galactic Empire\t\n",
      "Twitter:@darthvader\n",
      "Name: Fernandez de la Vega Sanz, Maria Teresa\n",
      "Email: mtfvs@spain.gov\n",
      "Phone: None\n",
      "Occupation: First Deputy Prime Minister, Spanish Gov\n",
      "\n",
      "Twitter:None\n"
     ]
    }
   ],
   "source": [
    "info = re.compile(r'''\n",
    "    ^(?P<name>[-\\w\\s]*,\\s\\w+[-\\w\\s]*)\\t        # last name, first name\n",
    "    (?P<email>[-.+\\w\\d]+@[-.+\\w\\d]+)\\t         # email\n",
    "    (?P<phone>\\(?\\d{3}\\)?\\s?-?\\d{3}-\\d{4})?\\t  # phone\n",
    "    (?P<occupation>[\\w\\d\\s]*,\\s[\\w\\d\\s.]*)\\t?  # occupation, company\n",
    "    (?P<twitter>@[\\w\\d]+)?$                    # Twitter handle\n",
    "''', re.X|re.M)\n",
    "for i in info.finditer(data):\n",
    "    print(f\"Name: {i.group('name')}\\nEmail: {i.group('email')}\\nPhone: {i.group('phone')}\\nOccupation: {i.group('occupation')}\\nTwitter:{i.group('twitter')}\")"
   ]
  },
  {
   "cell_type": "markdown",
   "metadata": {},
   "source": [
    "### Regex project\n",
    "\n",
    "Use python to read the file regex_test.txt and print the last name on each line using regular expressions and groups (return None for names with no first and last name, or names that aren't properly capitalized)\n",
    "##### Hint: use with open() and readlines()"
   ]
  },
  {
   "cell_type": "code",
   "execution_count": null,
   "metadata": {},
   "outputs": [],
   "source": [
    "\"\"\"\n",
    "Expected Output\n",
    "Lincoln\n",
    "Garfield\n",
    "Milliken\n",
    "Williams\n",
    "None\n",
    "None\n",
    "\"\"\""
   ]
  },
  {
   "cell_type": "code",
   "execution_count": null,
   "metadata": {},
   "outputs": [],
   "source": []
  }
 ],
 "metadata": {
  "kernelspec": {
   "display_name": "Python 3",
   "language": "python",
   "name": "python3"
  },
  "language_info": {
   "codemirror_mode": {
    "name": "ipython",
    "version": 3
   },
   "file_extension": ".py",
   "mimetype": "text/x-python",
   "name": "python",
   "nbconvert_exporter": "python",
   "pygments_lexer": "ipython3",
   "version": "3.8.5"
  }
 },
 "nbformat": 4,
 "nbformat_minor": 2
}
